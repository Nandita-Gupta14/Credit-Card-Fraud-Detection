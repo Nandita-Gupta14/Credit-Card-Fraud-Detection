{
 "cells": [
  {
   "cell_type": "markdown",
   "metadata": {},
   "source": [
    "### Importing the required files and libraries."
   ]
  },
  {
   "cell_type": "code",
   "execution_count": 1,
   "metadata": {},
   "outputs": [],
   "source": [
    "import numpy as np\n",
    "import scipy as sp\n",
    "import pandas as pd\n",
    "import matplotlib as mpl\n",
    "import matplotlib.pyplot as plt\n",
    "import seaborn as sns\n",
    "import warnings\n",
    "warnings.filterwarnings(action='once')\n",
    "\n",
    "%matplotlib inline\n",
    "mpl.style.use('ggplot')\n",
    "sns.set(style='whitegrid')"
   ]
  },
  {
   "cell_type": "markdown",
   "metadata": {},
   "source": [
    "Importing the dataset into variable transactions and displaying its metadata."
   ]
  },
  {
   "cell_type": "code",
   "execution_count": 2,
   "metadata": {},
   "outputs": [
    {
     "data": {
      "text/plain": [
       "(284807, 31)"
      ]
     },
     "execution_count": 2,
     "metadata": {},
     "output_type": "execute_result"
    }
   ],
   "source": [
    "transactions = pd.read_csv(r\"C:\\Users\\NANA-KHUSHI\\Desktop\\nands\\python\\Credit Card Fraud detection\\creditcard.csv\")\n",
    "transactions.shape"
   ]
  },
  {
   "cell_type": "code",
   "execution_count": 3,
   "metadata": {},
   "outputs": [
    {
     "name": "stdout",
     "output_type": "stream",
     "text": [
      "<class 'pandas.core.frame.DataFrame'>\n",
      "RangeIndex: 284807 entries, 0 to 284806\n",
      "Data columns (total 31 columns):\n",
      " #   Column  Non-Null Count   Dtype  \n",
      "---  ------  --------------   -----  \n",
      " 0   Time    284807 non-null  float64\n",
      " 1   V1      284807 non-null  float64\n",
      " 2   V2      284807 non-null  float64\n",
      " 3   V3      284807 non-null  float64\n",
      " 4   V4      284807 non-null  float64\n",
      " 5   V5      284807 non-null  float64\n",
      " 6   V6      284807 non-null  float64\n",
      " 7   V7      284807 non-null  float64\n",
      " 8   V8      284807 non-null  float64\n",
      " 9   V9      284807 non-null  float64\n",
      " 10  V10     284807 non-null  float64\n",
      " 11  V11     284807 non-null  float64\n",
      " 12  V12     284807 non-null  float64\n",
      " 13  V13     284807 non-null  float64\n",
      " 14  V14     284807 non-null  float64\n",
      " 15  V15     284807 non-null  float64\n",
      " 16  V16     284807 non-null  float64\n",
      " 17  V17     284807 non-null  float64\n",
      " 18  V18     284807 non-null  float64\n",
      " 19  V19     284807 non-null  float64\n",
      " 20  V20     284807 non-null  float64\n",
      " 21  V21     284807 non-null  float64\n",
      " 22  V22     284807 non-null  float64\n",
      " 23  V23     284807 non-null  float64\n",
      " 24  V24     284807 non-null  float64\n",
      " 25  V25     284807 non-null  float64\n",
      " 26  V26     284807 non-null  float64\n",
      " 27  V27     284807 non-null  float64\n",
      " 28  V28     284807 non-null  float64\n",
      " 29  Amount  284807 non-null  float64\n",
      " 30  Class   284807 non-null  int64  \n",
      "dtypes: float64(30), int64(1)\n",
      "memory usage: 67.4 MB\n"
     ]
    }
   ],
   "source": [
    "transactions.info()"
   ]
  },
  {
   "cell_type": "markdown",
   "metadata": {},
   "source": [
    "Check for any missing data in CSV file."
   ]
  },
  {
   "cell_type": "code",
   "execution_count": 4,
   "metadata": {},
   "outputs": [
    {
     "data": {
      "text/plain": [
       "False"
      ]
     },
     "execution_count": 4,
     "metadata": {},
     "output_type": "execute_result"
    }
   ],
   "source": [
    "transactions.isnull().any().any()"
   ]
  },
  {
   "cell_type": "code",
   "execution_count": 5,
   "metadata": {},
   "outputs": [
    {
     "data": {
      "text/html": [
       "<div>\n",
       "<style scoped>\n",
       "    .dataframe tbody tr th:only-of-type {\n",
       "        vertical-align: middle;\n",
       "    }\n",
       "\n",
       "    .dataframe tbody tr th {\n",
       "        vertical-align: top;\n",
       "    }\n",
       "\n",
       "    .dataframe thead th {\n",
       "        text-align: right;\n",
       "    }\n",
       "</style>\n",
       "<table border=\"1\" class=\"dataframe\">\n",
       "  <thead>\n",
       "    <tr style=\"text-align: right;\">\n",
       "      <th></th>\n",
       "      <th>Time</th>\n",
       "      <th>V1</th>\n",
       "      <th>V2</th>\n",
       "      <th>V3</th>\n",
       "      <th>V4</th>\n",
       "      <th>V5</th>\n",
       "      <th>V6</th>\n",
       "      <th>V7</th>\n",
       "      <th>V8</th>\n",
       "      <th>V9</th>\n",
       "      <th>...</th>\n",
       "      <th>V21</th>\n",
       "      <th>V22</th>\n",
       "      <th>V23</th>\n",
       "      <th>V24</th>\n",
       "      <th>V25</th>\n",
       "      <th>V26</th>\n",
       "      <th>V27</th>\n",
       "      <th>V28</th>\n",
       "      <th>Amount</th>\n",
       "      <th>Class</th>\n",
       "    </tr>\n",
       "  </thead>\n",
       "  <tbody>\n",
       "    <tr>\n",
       "      <th>0</th>\n",
       "      <td>0.0</td>\n",
       "      <td>-1.359807</td>\n",
       "      <td>-0.072781</td>\n",
       "      <td>2.536347</td>\n",
       "      <td>1.378155</td>\n",
       "      <td>-0.338321</td>\n",
       "      <td>0.462388</td>\n",
       "      <td>0.239599</td>\n",
       "      <td>0.098698</td>\n",
       "      <td>0.363787</td>\n",
       "      <td>...</td>\n",
       "      <td>-0.018307</td>\n",
       "      <td>0.277838</td>\n",
       "      <td>-0.110474</td>\n",
       "      <td>0.066928</td>\n",
       "      <td>0.128539</td>\n",
       "      <td>-0.189115</td>\n",
       "      <td>0.133558</td>\n",
       "      <td>-0.021053</td>\n",
       "      <td>149.62</td>\n",
       "      <td>0</td>\n",
       "    </tr>\n",
       "    <tr>\n",
       "      <th>1</th>\n",
       "      <td>0.0</td>\n",
       "      <td>1.191857</td>\n",
       "      <td>0.266151</td>\n",
       "      <td>0.166480</td>\n",
       "      <td>0.448154</td>\n",
       "      <td>0.060018</td>\n",
       "      <td>-0.082361</td>\n",
       "      <td>-0.078803</td>\n",
       "      <td>0.085102</td>\n",
       "      <td>-0.255425</td>\n",
       "      <td>...</td>\n",
       "      <td>-0.225775</td>\n",
       "      <td>-0.638672</td>\n",
       "      <td>0.101288</td>\n",
       "      <td>-0.339846</td>\n",
       "      <td>0.167170</td>\n",
       "      <td>0.125895</td>\n",
       "      <td>-0.008983</td>\n",
       "      <td>0.014724</td>\n",
       "      <td>2.69</td>\n",
       "      <td>0</td>\n",
       "    </tr>\n",
       "    <tr>\n",
       "      <th>2</th>\n",
       "      <td>1.0</td>\n",
       "      <td>-1.358354</td>\n",
       "      <td>-1.340163</td>\n",
       "      <td>1.773209</td>\n",
       "      <td>0.379780</td>\n",
       "      <td>-0.503198</td>\n",
       "      <td>1.800499</td>\n",
       "      <td>0.791461</td>\n",
       "      <td>0.247676</td>\n",
       "      <td>-1.514654</td>\n",
       "      <td>...</td>\n",
       "      <td>0.247998</td>\n",
       "      <td>0.771679</td>\n",
       "      <td>0.909412</td>\n",
       "      <td>-0.689281</td>\n",
       "      <td>-0.327642</td>\n",
       "      <td>-0.139097</td>\n",
       "      <td>-0.055353</td>\n",
       "      <td>-0.059752</td>\n",
       "      <td>378.66</td>\n",
       "      <td>0</td>\n",
       "    </tr>\n",
       "    <tr>\n",
       "      <th>3</th>\n",
       "      <td>1.0</td>\n",
       "      <td>-0.966272</td>\n",
       "      <td>-0.185226</td>\n",
       "      <td>1.792993</td>\n",
       "      <td>-0.863291</td>\n",
       "      <td>-0.010309</td>\n",
       "      <td>1.247203</td>\n",
       "      <td>0.237609</td>\n",
       "      <td>0.377436</td>\n",
       "      <td>-1.387024</td>\n",
       "      <td>...</td>\n",
       "      <td>-0.108300</td>\n",
       "      <td>0.005274</td>\n",
       "      <td>-0.190321</td>\n",
       "      <td>-1.175575</td>\n",
       "      <td>0.647376</td>\n",
       "      <td>-0.221929</td>\n",
       "      <td>0.062723</td>\n",
       "      <td>0.061458</td>\n",
       "      <td>123.50</td>\n",
       "      <td>0</td>\n",
       "    </tr>\n",
       "    <tr>\n",
       "      <th>4</th>\n",
       "      <td>2.0</td>\n",
       "      <td>-1.158233</td>\n",
       "      <td>0.877737</td>\n",
       "      <td>1.548718</td>\n",
       "      <td>0.403034</td>\n",
       "      <td>-0.407193</td>\n",
       "      <td>0.095921</td>\n",
       "      <td>0.592941</td>\n",
       "      <td>-0.270533</td>\n",
       "      <td>0.817739</td>\n",
       "      <td>...</td>\n",
       "      <td>-0.009431</td>\n",
       "      <td>0.798278</td>\n",
       "      <td>-0.137458</td>\n",
       "      <td>0.141267</td>\n",
       "      <td>-0.206010</td>\n",
       "      <td>0.502292</td>\n",
       "      <td>0.219422</td>\n",
       "      <td>0.215153</td>\n",
       "      <td>69.99</td>\n",
       "      <td>0</td>\n",
       "    </tr>\n",
       "  </tbody>\n",
       "</table>\n",
       "<p>5 rows × 31 columns</p>\n",
       "</div>"
      ],
      "text/plain": [
       "   Time        V1        V2        V3        V4        V5        V6        V7  \\\n",
       "0   0.0 -1.359807 -0.072781  2.536347  1.378155 -0.338321  0.462388  0.239599   \n",
       "1   0.0  1.191857  0.266151  0.166480  0.448154  0.060018 -0.082361 -0.078803   \n",
       "2   1.0 -1.358354 -1.340163  1.773209  0.379780 -0.503198  1.800499  0.791461   \n",
       "3   1.0 -0.966272 -0.185226  1.792993 -0.863291 -0.010309  1.247203  0.237609   \n",
       "4   2.0 -1.158233  0.877737  1.548718  0.403034 -0.407193  0.095921  0.592941   \n",
       "\n",
       "         V8        V9  ...       V21       V22       V23       V24       V25  \\\n",
       "0  0.098698  0.363787  ... -0.018307  0.277838 -0.110474  0.066928  0.128539   \n",
       "1  0.085102 -0.255425  ... -0.225775 -0.638672  0.101288 -0.339846  0.167170   \n",
       "2  0.247676 -1.514654  ...  0.247998  0.771679  0.909412 -0.689281 -0.327642   \n",
       "3  0.377436 -1.387024  ... -0.108300  0.005274 -0.190321 -1.175575  0.647376   \n",
       "4 -0.270533  0.817739  ... -0.009431  0.798278 -0.137458  0.141267 -0.206010   \n",
       "\n",
       "        V26       V27       V28  Amount  Class  \n",
       "0 -0.189115  0.133558 -0.021053  149.62      0  \n",
       "1  0.125895 -0.008983  0.014724    2.69      0  \n",
       "2 -0.139097 -0.055353 -0.059752  378.66      0  \n",
       "3 -0.221929  0.062723  0.061458  123.50      0  \n",
       "4  0.502292  0.219422  0.215153   69.99      0  \n",
       "\n",
       "[5 rows x 31 columns]"
      ]
     },
     "execution_count": 5,
     "metadata": {},
     "output_type": "execute_result"
    }
   ],
   "source": [
    "transactions.head()"
   ]
  },
  {
   "cell_type": "markdown",
   "metadata": {},
   "source": [
    "Display the frequency of fraudulent transactions. 1 stands for fradulent and 0 for true."
   ]
  },
  {
   "cell_type": "code",
   "execution_count": 6,
   "metadata": {},
   "outputs": [
    {
     "data": {
      "text/plain": [
       "0    284315\n",
       "1       492\n",
       "Name: Class, dtype: int64"
      ]
     },
     "execution_count": 6,
     "metadata": {},
     "output_type": "execute_result"
    }
   ],
   "source": [
    "transactions['Class'].value_counts()"
   ]
  },
  {
   "cell_type": "code",
   "execution_count": 7,
   "metadata": {},
   "outputs": [
    {
     "data": {
      "text/plain": [
       "0    0.998273\n",
       "1    0.001727\n",
       "Name: Class, dtype: float64"
      ]
     },
     "execution_count": 7,
     "metadata": {},
     "output_type": "execute_result"
    }
   ],
   "source": [
    "transactions['Class'].value_counts(normalize = True)"
   ]
  },
  {
   "cell_type": "markdown",
   "metadata": {},
   "source": [
    "We see that 0.17% of the transactions turn out to be fraudulent."
   ]
  },
  {
   "cell_type": "markdown",
   "metadata": {},
   "source": [
    "### Train/Test Split"
   ]
  },
  {
   "cell_type": "markdown",
   "metadata": {},
   "source": [
    "Divide the dataset into training and testing sets."
   ]
  },
  {
   "cell_type": "code",
   "execution_count": 8,
   "metadata": {},
   "outputs": [],
   "source": [
    "X= transactions.drop(labels='Class',axis = 1) #Features\n",
    "y=transactions.loc[:,'Class'] #Response\n",
    "#del transactions #Delete the original data"
   ]
  },
  {
   "cell_type": "markdown",
   "metadata": {},
   "source": [
    "I will use a test size of 20%. I will also stratify the split on the response variable, which is very important to do because there are so few fraudulent transactions."
   ]
  },
  {
   "cell_type": "code",
   "execution_count": 9,
   "metadata": {},
   "outputs": [
    {
     "name": "stderr",
     "output_type": "stream",
     "text": [
      "C:\\python\\lib\\importlib\\_bootstrap.py:219: RuntimeWarning: numpy.ufunc size changed, may indicate binary incompatibility. Expected 192 from C header, got 216 from PyObject\n",
      "  return f(*args, **kwds)\n",
      "C:\\python\\lib\\importlib\\_bootstrap.py:219: RuntimeWarning: numpy.ufunc size changed, may indicate binary incompatibility. Expected 192 from C header, got 216 from PyObject\n",
      "  return f(*args, **kwds)\n"
     ]
    }
   ],
   "source": [
    "from sklearn.model_selection import train_test_split"
   ]
  },
  {
   "cell_type": "code",
   "execution_count": 10,
   "metadata": {},
   "outputs": [],
   "source": [
    "X_train , X_test, y_train, y_test = train_test_split(X , y , test_size=0.2 , random_state=1 , stratify = y)"
   ]
  },
  {
   "cell_type": "code",
   "execution_count": 11,
   "metadata": {},
   "outputs": [
    {
     "data": {
      "text/plain": [
       "((227845, 30), (56962, 30))"
      ]
     },
     "execution_count": 11,
     "metadata": {},
     "output_type": "execute_result"
    }
   ],
   "source": [
    "X_train.shape,X_test.shape"
   ]
  },
  {
   "cell_type": "code",
   "execution_count": 12,
   "metadata": {},
   "outputs": [],
   "source": [
    "#to flag off warnings\n",
    "X_train.is_copy = False\n",
    "X_test.is_copy = False"
   ]
  },
  {
   "cell_type": "markdown",
   "metadata": {},
   "source": [
    "### Data Analysis"
   ]
  },
  {
   "cell_type": "code",
   "execution_count": 13,
   "metadata": {},
   "outputs": [
    {
     "data": {
      "text/plain": [
       "count    227845.000000\n",
       "mean      94707.617670\n",
       "std       47523.204111\n",
       "min           0.000000\n",
       "25%       54086.000000\n",
       "50%       84609.000000\n",
       "75%      139261.000000\n",
       "max      172792.000000\n",
       "Name: Time, dtype: float64"
      ]
     },
     "execution_count": 13,
     "metadata": {},
     "output_type": "execute_result"
    }
   ],
   "source": [
    "X_train['Time'].describe()"
   ]
  },
  {
   "cell_type": "code",
   "execution_count": 14,
   "metadata": {},
   "outputs": [
    {
     "name": "stderr",
     "output_type": "stream",
     "text": [
      "C:\\python\\lib\\site-packages\\pandas\\core\\indexing.py:1048: SettingWithCopyWarning: \n",
      "A value is trying to be set on a copy of a slice from a DataFrame.\n",
      "Try using .loc[row_indexer,col_indexer] = value instead\n",
      "\n",
      "See the caveats in the documentation: https://pandas.pydata.org/pandas-docs/stable/user_guide/indexing.html#returning-a-view-versus-a-copy\n",
      "  self.obj[item_labels[indexer[info_axis]]] = value\n"
     ]
    }
   ],
   "source": [
    "#convert seconds to hours for easy of calculations\n",
    "\n",
    "X_train.loc[:,'Time'] = X_train.Time / 3600\n",
    "X_test.loc[:,'Time'] = X_test.Time / 3600"
   ]
  },
  {
   "cell_type": "code",
   "execution_count": 15,
   "metadata": {},
   "outputs": [
    {
     "data": {
      "text/plain": [
       "1.9999074074074075"
      ]
     },
     "execution_count": 15,
     "metadata": {},
     "output_type": "execute_result"
    }
   ],
   "source": [
    "# time of last transaction in days\n",
    "X_train['Time'].max() / 24"
   ]
  },
  {
   "cell_type": "markdown",
   "metadata": {},
   "source": [
    "the fraudulent transactions occur at every 2 days"
   ]
  },
  {
   "cell_type": "code",
   "execution_count": 16,
   "metadata": {},
   "outputs": [
    {
     "data": {
      "text/plain": [
       "Text(0.5, 1.0, 'Transaction times')"
      ]
     },
     "execution_count": 16,
     "metadata": {},
     "output_type": "execute_result"
    },
    {
     "data": {
      "image/png": "[encoded data removed]",
      "text/plain": [
       "<Figure size 864x576 with 1 Axes>"
      ]
     },
     "metadata": {},
     "output_type": "display_data"
    }
   ],
   "source": [
    "#histogram of transition times. \n",
    "plt.figure(figsize=(12,8))\n",
    "sns.distplot(X_train['Time'],bins=50,color='green')\n",
    "plt.xlim([0,50])\n",
    "plt.xticks(np.arange(0,50,5))\n",
    "plt.xlabel('Time after 1st transaction(hr)')\n",
    "plt.ylabel('Count')\n",
    "plt.title('Transaction times')"
   ]
  },
  {
   "cell_type": "markdown",
   "metadata": {},
   "source": [
    "Thus, it can be observed that there are 2 lulls during the nighttime on each day."
   ]
  },
  {
   "cell_type": "code",
   "execution_count": 17,
   "metadata": {},
   "outputs": [
    {
     "data": {
      "text/plain": [
       "count    227845.000000\n",
       "mean         88.709296\n",
       "std         250.026305\n",
       "min           0.000000\n",
       "25%           5.550000\n",
       "50%          22.000000\n",
       "75%          77.890000\n",
       "max       25691.160000\n",
       "Name: Amount, dtype: float64"
      ]
     },
     "execution_count": 17,
     "metadata": {},
     "output_type": "execute_result"
    }
   ],
   "source": [
    "#Summary stats\n",
    "X_train['Amount'].describe()"
   ]
  },
  {
   "cell_type": "markdown",
   "metadata": {},
   "source": [
    "Looking at the details, it can be observed that the amonunts appear to be right skewed. To verify this, lets construct a histogram."
   ]
  },
  {
   "cell_type": "code",
   "execution_count": 18,
   "metadata": {},
   "outputs": [
    {
     "data": {
      "text/plain": [
       "Text(0.5, 1.0, 'Transaction Amounts')"
      ]
     },
     "execution_count": 18,
     "metadata": {},
     "output_type": "execute_result"
    },
    {
     "data": {
      "image/png": "[encoded data removed]",
      "text/plain": [
       "<Figure size 864x576 with 1 Axes>"
      ]
     },
     "metadata": {},
     "output_type": "display_data"
    }
   ],
   "source": [
    "plt.figure(figsize=(12,8))\n",
    "sns.distplot(X_train['Amount'],bins=300,color='g')\n",
    "plt.ylabel('Count')\n",
    "plt.title('Transaction Amounts')"
   ]
  },
  {
   "cell_type": "code",
   "execution_count": 19,
   "metadata": {},
   "outputs": [
    {
     "data": {
      "text/plain": [
       "Text(0.5, 1.0, 'Transaction Amounts')"
      ]
     },
     "execution_count": 19,
     "metadata": {},
     "output_type": "execute_result"
    },
    {
     "data": {
      "image/png": "[encoded data removed]",
      "text/plain": [
       "<Figure size 960x640 with 1 Axes>"
      ]
     },
     "metadata": {},
     "output_type": "display_data"
    }
   ],
   "source": [
    "# box plot as the histogram doesnot shoe the details properly.\n",
    "plt.figure(figsize=(12,8), dpi=80)\n",
    "sns.boxplot(X_train['Amount'])\n",
    "plt.title('Transaction Amounts')"
   ]
  },
  {
   "cell_type": "markdown",
   "metadata": {},
   "source": [
    "There are no outliers in the left and right side. Thus the amounts were roght skewed. We can check for the skewness to be sure."
   ]
  },
  {
   "cell_type": "code",
   "execution_count": 20,
   "metadata": {},
   "outputs": [
    {
     "data": {
      "text/plain": [
       "16.910303546516744"
      ]
     },
     "execution_count": 20,
     "metadata": {},
     "output_type": "execute_result"
    }
   ],
   "source": [
    "X_train['Amount'].skew()"
   ]
  },
  {
   "cell_type": "markdown",
   "metadata": {},
   "source": [
    "Lets remove the skewness and convert the data into a normal distribution."
   ]
  },
  {
   "cell_type": "code",
   "execution_count": 21,
   "metadata": {},
   "outputs": [
    {
     "name": "stderr",
     "output_type": "stream",
     "text": [
      "C:\\python\\lib\\site-packages\\pandas\\core\\indexing.py:1048: SettingWithCopyWarning: \n",
      "A value is trying to be set on a copy of a slice from a DataFrame.\n",
      "Try using .loc[row_indexer,col_indexer] = value instead\n",
      "\n",
      "See the caveats in the documentation: https://pandas.pydata.org/pandas-docs/stable/user_guide/indexing.html#returning-a-view-versus-a-copy\n",
      "  self.obj[item_labels[indexer[info_axis]]] = value\n"
     ]
    }
   ],
   "source": [
    "X_train.loc[:,'Amount'] = X_train['Amount']+ 1e-9\n",
    "# Shift all amounts by 1e-9"
   ]
  },
  {
   "cell_type": "markdown",
   "metadata": {},
   "source": [
    "Performing Box-Cox Transform"
   ]
  },
  {
   "cell_type": "code",
   "execution_count": 22,
   "metadata": {},
   "outputs": [],
   "source": [
    "from scipy import stats\n",
    "X_train.loc[:,'Amount'], maxlog, (min_ci, max_ci) = sp.stats.boxcox(X_train['Amount'], alpha=0.01)"
   ]
  },
  {
   "cell_type": "markdown",
   "metadata": {},
   "source": [
    "\n",
    "The maximum likelihood estimate of $\\lambda$ in the Box-Cox transform:"
   ]
  },
  {
   "cell_type": "code",
   "execution_count": 23,
   "metadata": {},
   "outputs": [
    {
     "data": {
      "text/html": [
       "<div>\n",
       "<style scoped>\n",
       "    .dataframe tbody tr th:only-of-type {\n",
       "        vertical-align: middle;\n",
       "    }\n",
       "\n",
       "    .dataframe tbody tr th {\n",
       "        vertical-align: top;\n",
       "    }\n",
       "\n",
       "    .dataframe thead th {\n",
       "        text-align: right;\n",
       "    }\n",
       "</style>\n",
       "<table border=\"1\" class=\"dataframe\">\n",
       "  <thead>\n",
       "    <tr style=\"text-align: right;\">\n",
       "      <th></th>\n",
       "      <th>Time</th>\n",
       "      <th>V1</th>\n",
       "      <th>V2</th>\n",
       "      <th>V3</th>\n",
       "      <th>V4</th>\n",
       "      <th>V5</th>\n",
       "      <th>V6</th>\n",
       "      <th>V7</th>\n",
       "      <th>V8</th>\n",
       "      <th>V9</th>\n",
       "      <th>...</th>\n",
       "      <th>V20</th>\n",
       "      <th>V21</th>\n",
       "      <th>V22</th>\n",
       "      <th>V23</th>\n",
       "      <th>V24</th>\n",
       "      <th>V25</th>\n",
       "      <th>V26</th>\n",
       "      <th>V27</th>\n",
       "      <th>V28</th>\n",
       "      <th>Amount</th>\n",
       "    </tr>\n",
       "  </thead>\n",
       "  <tbody>\n",
       "    <tr>\n",
       "      <th>9341</th>\n",
       "      <td>3.766111</td>\n",
       "      <td>1.148607</td>\n",
       "      <td>-0.004154</td>\n",
       "      <td>-0.231106</td>\n",
       "      <td>1.124256</td>\n",
       "      <td>0.696077</td>\n",
       "      <td>1.177523</td>\n",
       "      <td>-0.160142</td>\n",
       "      <td>0.201478</td>\n",
       "      <td>1.568269</td>\n",
       "      <td>...</td>\n",
       "      <td>-0.122816</td>\n",
       "      <td>-0.294334</td>\n",
       "      <td>-0.550620</td>\n",
       "      <td>-0.309693</td>\n",
       "      <td>-1.773489</td>\n",
       "      <td>0.791006</td>\n",
       "      <td>-0.263954</td>\n",
       "      <td>-0.008489</td>\n",
       "      <td>-0.011284</td>\n",
       "      <td>5.423970</td>\n",
       "    </tr>\n",
       "    <tr>\n",
       "      <th>210529</th>\n",
       "      <td>38.339444</td>\n",
       "      <td>-0.910538</td>\n",
       "      <td>-0.971254</td>\n",
       "      <td>1.033829</td>\n",
       "      <td>-1.514111</td>\n",
       "      <td>-1.068542</td>\n",
       "      <td>0.148626</td>\n",
       "      <td>-0.660712</td>\n",
       "      <td>0.694582</td>\n",
       "      <td>-0.563151</td>\n",
       "      <td>...</td>\n",
       "      <td>0.362532</td>\n",
       "      <td>0.183422</td>\n",
       "      <td>0.082033</td>\n",
       "      <td>0.245169</td>\n",
       "      <td>-0.347895</td>\n",
       "      <td>-0.046626</td>\n",
       "      <td>-0.366928</td>\n",
       "      <td>-0.130325</td>\n",
       "      <td>-0.161839</td>\n",
       "      <td>7.046293</td>\n",
       "    </tr>\n",
       "    <tr>\n",
       "      <th>51525</th>\n",
       "      <td>12.499167</td>\n",
       "      <td>1.222501</td>\n",
       "      <td>0.491904</td>\n",
       "      <td>-0.082522</td>\n",
       "      <td>0.987913</td>\n",
       "      <td>0.164676</td>\n",
       "      <td>-0.845453</td>\n",
       "      <td>0.515114</td>\n",
       "      <td>-0.258261</td>\n",
       "      <td>-0.667442</td>\n",
       "      <td>...</td>\n",
       "      <td>-0.076698</td>\n",
       "      <td>0.068123</td>\n",
       "      <td>0.244725</td>\n",
       "      <td>-0.173798</td>\n",
       "      <td>0.373883</td>\n",
       "      <td>0.849200</td>\n",
       "      <td>-0.317268</td>\n",
       "      <td>-0.007417</td>\n",
       "      <td>0.003691</td>\n",
       "      <td>2.397348</td>\n",
       "    </tr>\n",
       "    <tr>\n",
       "      <th>128333</th>\n",
       "      <td>21.853611</td>\n",
       "      <td>1.184303</td>\n",
       "      <td>-0.066290</td>\n",
       "      <td>0.400333</td>\n",
       "      <td>-0.048278</td>\n",
       "      <td>-0.447460</td>\n",
       "      <td>-0.521259</td>\n",
       "      <td>-0.103204</td>\n",
       "      <td>-0.044640</td>\n",
       "      <td>-0.032670</td>\n",
       "      <td>...</td>\n",
       "      <td>0.041195</td>\n",
       "      <td>-0.268415</td>\n",
       "      <td>-0.900138</td>\n",
       "      <td>0.112504</td>\n",
       "      <td>0.032476</td>\n",
       "      <td>0.046804</td>\n",
       "      <td>0.472132</td>\n",
       "      <td>-0.068010</td>\n",
       "      <td>0.008341</td>\n",
       "      <td>4.774875</td>\n",
       "    </tr>\n",
       "    <tr>\n",
       "      <th>252025</th>\n",
       "      <td>43.227222</td>\n",
       "      <td>-0.484059</td>\n",
       "      <td>0.439377</td>\n",
       "      <td>-2.033102</td>\n",
       "      <td>-3.398765</td>\n",
       "      <td>2.209264</td>\n",
       "      <td>3.175789</td>\n",
       "      <td>-0.566306</td>\n",
       "      <td>0.423994</td>\n",
       "      <td>-1.281704</td>\n",
       "      <td>...</td>\n",
       "      <td>-0.171988</td>\n",
       "      <td>1.344784</td>\n",
       "      <td>1.271853</td>\n",
       "      <td>0.055813</td>\n",
       "      <td>0.735276</td>\n",
       "      <td>-0.629507</td>\n",
       "      <td>-0.178298</td>\n",
       "      <td>0.394319</td>\n",
       "      <td>0.240147</td>\n",
       "      <td>3.266353</td>\n",
       "    </tr>\n",
       "    <tr>\n",
       "      <th>...</th>\n",
       "      <td>...</td>\n",
       "      <td>...</td>\n",
       "      <td>...</td>\n",
       "      <td>...</td>\n",
       "      <td>...</td>\n",
       "      <td>...</td>\n",
       "      <td>...</td>\n",
       "      <td>...</td>\n",
       "      <td>...</td>\n",
       "      <td>...</td>\n",
       "      <td>...</td>\n",
       "      <td>...</td>\n",
       "      <td>...</td>\n",
       "      <td>...</td>\n",
       "      <td>...</td>\n",
       "      <td>...</td>\n",
       "      <td>...</td>\n",
       "      <td>...</td>\n",
       "      <td>...</td>\n",
       "      <td>...</td>\n",
       "      <td>...</td>\n",
       "    </tr>\n",
       "    <tr>\n",
       "      <th>249626</th>\n",
       "      <td>42.917222</td>\n",
       "      <td>-0.312808</td>\n",
       "      <td>1.571520</td>\n",
       "      <td>0.625071</td>\n",
       "      <td>2.851596</td>\n",
       "      <td>1.440896</td>\n",
       "      <td>0.370273</td>\n",
       "      <td>1.559423</td>\n",
       "      <td>-0.122626</td>\n",
       "      <td>-2.127059</td>\n",
       "      <td>...</td>\n",
       "      <td>-0.013666</td>\n",
       "      <td>-0.072840</td>\n",
       "      <td>-0.276301</td>\n",
       "      <td>-0.144144</td>\n",
       "      <td>-0.813403</td>\n",
       "      <td>-0.094574</td>\n",
       "      <td>-0.086966</td>\n",
       "      <td>0.101273</td>\n",
       "      <td>0.154888</td>\n",
       "      <td>5.135193</td>\n",
       "    </tr>\n",
       "    <tr>\n",
       "      <th>188363</th>\n",
       "      <td>35.538889</td>\n",
       "      <td>2.313488</td>\n",
       "      <td>-1.066660</td>\n",
       "      <td>-2.698797</td>\n",
       "      <td>-1.810692</td>\n",
       "      <td>0.181929</td>\n",
       "      <td>-0.825158</td>\n",
       "      <td>0.014053</td>\n",
       "      <td>-0.497443</td>\n",
       "      <td>-2.466535</td>\n",
       "      <td>...</td>\n",
       "      <td>-0.303714</td>\n",
       "      <td>0.175502</td>\n",
       "      <td>0.943729</td>\n",
       "      <td>-0.209989</td>\n",
       "      <td>0.371705</td>\n",
       "      <td>0.688140</td>\n",
       "      <td>0.270351</td>\n",
       "      <td>-0.078804</td>\n",
       "      <td>-0.087019</td>\n",
       "      <td>5.277588</td>\n",
       "    </tr>\n",
       "    <tr>\n",
       "      <th>224660</th>\n",
       "      <td>39.973056</td>\n",
       "      <td>1.980328</td>\n",
       "      <td>0.104427</td>\n",
       "      <td>-0.923277</td>\n",
       "      <td>1.353652</td>\n",
       "      <td>0.047918</td>\n",
       "      <td>-0.223057</td>\n",
       "      <td>-0.382536</td>\n",
       "      <td>0.034461</td>\n",
       "      <td>0.965143</td>\n",
       "      <td>...</td>\n",
       "      <td>-0.217607</td>\n",
       "      <td>-0.283405</td>\n",
       "      <td>-0.677841</td>\n",
       "      <td>0.263567</td>\n",
       "      <td>-0.961968</td>\n",
       "      <td>-0.298113</td>\n",
       "      <td>-0.888231</td>\n",
       "      <td>0.073120</td>\n",
       "      <td>-0.005631</td>\n",
       "      <td>2.382383</td>\n",
       "    </tr>\n",
       "    <tr>\n",
       "      <th>206178</th>\n",
       "      <td>37.805000</td>\n",
       "      <td>1.888991</td>\n",
       "      <td>-0.199603</td>\n",
       "      <td>-0.401767</td>\n",
       "      <td>1.366907</td>\n",
       "      <td>-0.105339</td>\n",
       "      <td>0.441041</td>\n",
       "      <td>-0.401390</td>\n",
       "      <td>0.227025</td>\n",
       "      <td>0.894311</td>\n",
       "      <td>...</td>\n",
       "      <td>-0.254580</td>\n",
       "      <td>-0.469722</td>\n",
       "      <td>-1.120237</td>\n",
       "      <td>0.470175</td>\n",
       "      <td>0.620089</td>\n",
       "      <td>-0.347252</td>\n",
       "      <td>-1.155696</td>\n",
       "      <td>0.049377</td>\n",
       "      <td>-0.033304</td>\n",
       "      <td>2.502845</td>\n",
       "    </tr>\n",
       "    <tr>\n",
       "      <th>99525</th>\n",
       "      <td>18.654722</td>\n",
       "      <td>1.043656</td>\n",
       "      <td>-1.663870</td>\n",
       "      <td>-0.403771</td>\n",
       "      <td>-1.333184</td>\n",
       "      <td>-1.266211</td>\n",
       "      <td>-0.725187</td>\n",
       "      <td>-0.293248</td>\n",
       "      <td>-0.244382</td>\n",
       "      <td>-2.361917</td>\n",
       "      <td>...</td>\n",
       "      <td>0.151423</td>\n",
       "      <td>-0.331375</td>\n",
       "      <td>-1.246144</td>\n",
       "      <td>-0.112680</td>\n",
       "      <td>-0.049060</td>\n",
       "      <td>0.242123</td>\n",
       "      <td>-0.471612</td>\n",
       "      <td>-0.052239</td>\n",
       "      <td>0.044329</td>\n",
       "      <td>8.300230</td>\n",
       "    </tr>\n",
       "  </tbody>\n",
       "</table>\n",
       "<p>227845 rows × 30 columns</p>\n",
       "</div>"
      ],
      "text/plain": [
       "             Time        V1        V2        V3        V4        V5        V6  \\\n",
       "9341     3.766111  1.148607 -0.004154 -0.231106  1.124256  0.696077  1.177523   \n",
       "210529  38.339444 -0.910538 -0.971254  1.033829 -1.514111 -1.068542  0.148626   \n",
       "51525   12.499167  1.222501  0.491904 -0.082522  0.987913  0.164676 -0.845453   \n",
       "128333  21.853611  1.184303 -0.066290  0.400333 -0.048278 -0.447460 -0.521259   \n",
       "252025  43.227222 -0.484059  0.439377 -2.033102 -3.398765  2.209264  3.175789   \n",
       "...           ...       ...       ...       ...       ...       ...       ...   \n",
       "249626  42.917222 -0.312808  1.571520  0.625071  2.851596  1.440896  0.370273   \n",
       "188363  35.538889  2.313488 -1.066660 -2.698797 -1.810692  0.181929 -0.825158   \n",
       "224660  39.973056  1.980328  0.104427 -0.923277  1.353652  0.047918 -0.223057   \n",
       "206178  37.805000  1.888991 -0.199603 -0.401767  1.366907 -0.105339  0.441041   \n",
       "99525   18.654722  1.043656 -1.663870 -0.403771 -1.333184 -1.266211 -0.725187   \n",
       "\n",
       "              V7        V8        V9  ...       V20       V21       V22  \\\n",
       "9341   -0.160142  0.201478  1.568269  ... -0.122816 -0.294334 -0.550620   \n",
       "210529 -0.660712  0.694582 -0.563151  ...  0.362532  0.183422  0.082033   \n",
       "51525   0.515114 -0.258261 -0.667442  ... -0.076698  0.068123  0.244725   \n",
       "128333 -0.103204 -0.044640 -0.032670  ...  0.041195 -0.268415 -0.900138   \n",
       "252025 -0.566306  0.423994 -1.281704  ... -0.171988  1.344784  1.271853   \n",
       "...          ...       ...       ...  ...       ...       ...       ...   \n",
       "249626  1.559423 -0.122626 -2.127059  ... -0.013666 -0.072840 -0.276301   \n",
       "188363  0.014053 -0.497443 -2.466535  ... -0.303714  0.175502  0.943729   \n",
       "224660 -0.382536  0.034461  0.965143  ... -0.217607 -0.283405 -0.677841   \n",
       "206178 -0.401390  0.227025  0.894311  ... -0.254580 -0.469722 -1.120237   \n",
       "99525  -0.293248 -0.244382 -2.361917  ...  0.151423 -0.331375 -1.246144   \n",
       "\n",
       "             V23       V24       V25       V26       V27       V28    Amount  \n",
       "9341   -0.309693 -1.773489  0.791006 -0.263954 -0.008489 -0.011284  5.423970  \n",
       "210529  0.245169 -0.347895 -0.046626 -0.366928 -0.130325 -0.161839  7.046293  \n",
       "51525  -0.173798  0.373883  0.849200 -0.317268 -0.007417  0.003691  2.397348  \n",
       "128333  0.112504  0.032476  0.046804  0.472132 -0.068010  0.008341  4.774875  \n",
       "252025  0.055813  0.735276 -0.629507 -0.178298  0.394319  0.240147  3.266353  \n",
       "...          ...       ...       ...       ...       ...       ...       ...  \n",
       "249626 -0.144144 -0.813403 -0.094574 -0.086966  0.101273  0.154888  5.135193  \n",
       "188363 -0.209989  0.371705  0.688140  0.270351 -0.078804 -0.087019  5.277588  \n",
       "224660  0.263567 -0.961968 -0.298113 -0.888231  0.073120 -0.005631  2.382383  \n",
       "206178  0.470175  0.620089 -0.347252 -1.155696  0.049377 -0.033304  2.502845  \n",
       "99525  -0.112680 -0.049060  0.242123 -0.471612 -0.052239  0.044329  8.300230  \n",
       "\n",
       "[227845 rows x 30 columns]"
      ]
     },
     "execution_count": 23,
     "metadata": {},
     "output_type": "execute_result"
    }
   ],
   "source": [
    "X_train.dropna()"
   ]
  },
  {
   "cell_type": "code",
   "execution_count": 24,
   "metadata": {},
   "outputs": [
    {
     "data": {
      "text/plain": [
       "Text(0.5, 1.0, 'Transaction Amounts (Box-Cox Transformed)')"
      ]
     },
     "execution_count": 24,
     "metadata": {},
     "output_type": "execute_result"
    },
    {
     "data": {
      "image/png": "[encoded data removed]",
      "text/plain": [
       "<Figure size 864x576 with 1 Axes>"
      ]
     },
     "metadata": {},
     "output_type": "display_data"
    }
   ],
   "source": [
    "#plotting newly transformed accounts\n",
    "plt.figure(figsize=(12,8))\n",
    "sns.distplot(X_train['Amount'],color='g')\n",
    "plt.xlabel('Transformed Amount')\n",
    "plt.ylabel('Count')\n",
    "plt.title('Transaction Amounts (Box-Cox Transformed)')\n"
   ]
  },
  {
   "cell_type": "code",
   "execution_count": 25,
   "metadata": {},
   "outputs": [
    {
     "data": {
      "text/plain": [
       "count    227845.000000\n",
       "mean          3.985515\n",
       "std           2.972505\n",
       "min          -6.982733\n",
       "25%           1.927181\n",
       "50%           3.831861\n",
       "75%           5.919328\n",
       "max          21.680567\n",
       "Name: Amount, dtype: float64"
      ]
     },
     "execution_count": 25,
     "metadata": {},
     "output_type": "execute_result"
    }
   ],
   "source": [
    "X_train['Amount'].describe()"
   ]
  },
  {
   "cell_type": "code",
   "execution_count": 26,
   "metadata": {},
   "outputs": [
    {
     "data": {
      "text/plain": [
       "0.11421488033443958"
      ]
     },
     "execution_count": 26,
     "metadata": {},
     "output_type": "execute_result"
    }
   ],
   "source": [
    "X_train['Amount'].skew()"
   ]
  },
  {
   "cell_type": "markdown",
   "metadata": {},
   "source": [
    "\n",
    "So our power transform removed most of the skewness in the Amount variable. Now we need to compute the Box-Cox transform on the test data amounts as well, using the $\\lambda$ value estimated on the training data."
   ]
  },
  {
   "cell_type": "code",
   "execution_count": 27,
   "metadata": {},
   "outputs": [
    {
     "name": "stderr",
     "output_type": "stream",
     "text": [
      "C:\\python\\lib\\site-packages\\pandas\\core\\indexing.py:1048: SettingWithCopyWarning: \n",
      "A value is trying to be set on a copy of a slice from a DataFrame.\n",
      "Try using .loc[row_indexer,col_indexer] = value instead\n",
      "\n",
      "See the caveats in the documentation: https://pandas.pydata.org/pandas-docs/stable/user_guide/indexing.html#returning-a-view-versus-a-copy\n",
      "  self.obj[item_labels[indexer[info_axis]]] = value\n"
     ]
    }
   ],
   "source": [
    "X_test.loc[:,'Amount'] = X_test['Amount'] + 1e-9 # Shift all amounts by 1e-9\n",
    "X_test.loc[:,'Amount'] = sp.stats.boxcox(X_test['Amount'], lmbda=maxlog)\n"
   ]
  },
  {
   "cell_type": "code",
   "execution_count": 28,
   "metadata": {},
   "outputs": [
    {
     "name": "stderr",
     "output_type": "stream",
     "text": [
      "C:\\python\\lib\\site-packages\\seaborn\\axisgrid.py:2264: UserWarning: The `size` parameter has been renamed to `height`; please update your code.\n",
      "  warnings.warn(msg, UserWarning)\n"
     ]
    },
    {
     "data": {
      "text/plain": [
       "<seaborn.axisgrid.JointGrid at 0x143b85c1988>"
      ]
     },
     "execution_count": 28,
     "metadata": {},
     "output_type": "execute_result"
    },
    {
     "data": {
      "image/png": "[encoded data removed]",
      "text/plain": [
       "<Figure size 864x864 with 3 Axes>"
      ]
     },
     "metadata": {},
     "output_type": "display_data"
    }
   ],
   "source": [
    "#Time vs Amount\n",
    "sns.jointplot(X_train['Time'].apply(lambda x: x % 24), X_train['Amount'], kind='hex', stat_func=None, size=12, xlim=(0,24), ylim=(-7.5,14)).set_axis_labels('Time of Day (hr)','Transformed Amount')\n"
   ]
  },
  {
   "cell_type": "markdown",
   "metadata": {},
   "source": [
    "\n",
    "The transaction amounts appear to be similarly distributed throughout the daytime hours. However, in the earliest hours of the day, around 5-7 AM, amounts around 2.5 are the most common (recall this is a Box-Cox transformed value). Perhaps everyone's buying their morning coffee?"
   ]
  },
  {
   "cell_type": "markdown",
   "metadata": {},
   "source": [
    "Let's compare the descriptive stats of the PCA variables V1-V28."
   ]
  },
  {
   "cell_type": "code",
   "execution_count": 29,
   "metadata": {},
   "outputs": [],
   "source": [
    "pca_vars = ['V%i' % k for k in range(1,29)]"
   ]
  },
  {
   "cell_type": "markdown",
   "metadata": {},
   "source": [
    "Full Table descriptive stats"
   ]
  },
  {
   "cell_type": "code",
   "execution_count": 30,
   "metadata": {},
   "outputs": [
    {
     "data": {
      "text/html": [
       "<div>\n",
       "<style scoped>\n",
       "    .dataframe tbody tr th:only-of-type {\n",
       "        vertical-align: middle;\n",
       "    }\n",
       "\n",
       "    .dataframe tbody tr th {\n",
       "        vertical-align: top;\n",
       "    }\n",
       "\n",
       "    .dataframe thead th {\n",
       "        text-align: right;\n",
       "    }\n",
       "</style>\n",
       "<table border=\"1\" class=\"dataframe\">\n",
       "  <thead>\n",
       "    <tr style=\"text-align: right;\">\n",
       "      <th></th>\n",
       "      <th>V1</th>\n",
       "      <th>V2</th>\n",
       "      <th>V3</th>\n",
       "      <th>V4</th>\n",
       "      <th>V5</th>\n",
       "      <th>V6</th>\n",
       "      <th>V7</th>\n",
       "      <th>V8</th>\n",
       "      <th>V9</th>\n",
       "      <th>V10</th>\n",
       "      <th>...</th>\n",
       "      <th>V19</th>\n",
       "      <th>V20</th>\n",
       "      <th>V21</th>\n",
       "      <th>V22</th>\n",
       "      <th>V23</th>\n",
       "      <th>V24</th>\n",
       "      <th>V25</th>\n",
       "      <th>V26</th>\n",
       "      <th>V27</th>\n",
       "      <th>V28</th>\n",
       "    </tr>\n",
       "  </thead>\n",
       "  <tbody>\n",
       "    <tr>\n",
       "      <th>count</th>\n",
       "      <td>227845.000000</td>\n",
       "      <td>227845.000000</td>\n",
       "      <td>227845.000000</td>\n",
       "      <td>227845.000000</td>\n",
       "      <td>227845.000000</td>\n",
       "      <td>227845.000000</td>\n",
       "      <td>227845.000000</td>\n",
       "      <td>227845.000000</td>\n",
       "      <td>227845.000000</td>\n",
       "      <td>227845.000000</td>\n",
       "      <td>...</td>\n",
       "      <td>227845.000000</td>\n",
       "      <td>227845.000000</td>\n",
       "      <td>227845.000000</td>\n",
       "      <td>227845.000000</td>\n",
       "      <td>227845.000000</td>\n",
       "      <td>227845.000000</td>\n",
       "      <td>227845.000000</td>\n",
       "      <td>227845.000000</td>\n",
       "      <td>227845.000000</td>\n",
       "      <td>227845.000000</td>\n",
       "    </tr>\n",
       "    <tr>\n",
       "      <th>mean</th>\n",
       "      <td>-0.000713</td>\n",
       "      <td>-0.001034</td>\n",
       "      <td>0.002557</td>\n",
       "      <td>0.003839</td>\n",
       "      <td>-0.002857</td>\n",
       "      <td>0.002085</td>\n",
       "      <td>0.000022</td>\n",
       "      <td>0.000093</td>\n",
       "      <td>0.000243</td>\n",
       "      <td>-0.000363</td>\n",
       "      <td>...</td>\n",
       "      <td>-0.000146</td>\n",
       "      <td>-0.000796</td>\n",
       "      <td>0.000023</td>\n",
       "      <td>0.000897</td>\n",
       "      <td>0.000765</td>\n",
       "      <td>-0.000380</td>\n",
       "      <td>0.000136</td>\n",
       "      <td>-0.000301</td>\n",
       "      <td>-0.000046</td>\n",
       "      <td>-0.000027</td>\n",
       "    </tr>\n",
       "    <tr>\n",
       "      <th>std</th>\n",
       "      <td>1.952399</td>\n",
       "      <td>1.636689</td>\n",
       "      <td>1.514288</td>\n",
       "      <td>1.417086</td>\n",
       "      <td>1.383532</td>\n",
       "      <td>1.333769</td>\n",
       "      <td>1.240239</td>\n",
       "      <td>1.200348</td>\n",
       "      <td>1.096453</td>\n",
       "      <td>1.082580</td>\n",
       "      <td>...</td>\n",
       "      <td>0.815140</td>\n",
       "      <td>0.767956</td>\n",
       "      <td>0.733325</td>\n",
       "      <td>0.725353</td>\n",
       "      <td>0.616772</td>\n",
       "      <td>0.605741</td>\n",
       "      <td>0.522184</td>\n",
       "      <td>0.482187</td>\n",
       "      <td>0.405182</td>\n",
       "      <td>0.331048</td>\n",
       "    </tr>\n",
       "    <tr>\n",
       "      <th>min</th>\n",
       "      <td>-56.407510</td>\n",
       "      <td>-72.715728</td>\n",
       "      <td>-48.325589</td>\n",
       "      <td>-5.683171</td>\n",
       "      <td>-113.743307</td>\n",
       "      <td>-26.160506</td>\n",
       "      <td>-43.557242</td>\n",
       "      <td>-73.216718</td>\n",
       "      <td>-13.434066</td>\n",
       "      <td>-24.588262</td>\n",
       "      <td>...</td>\n",
       "      <td>-7.213527</td>\n",
       "      <td>-54.497720</td>\n",
       "      <td>-34.830382</td>\n",
       "      <td>-10.933144</td>\n",
       "      <td>-36.666000</td>\n",
       "      <td>-2.836627</td>\n",
       "      <td>-8.696627</td>\n",
       "      <td>-2.534330</td>\n",
       "      <td>-22.565679</td>\n",
       "      <td>-15.430084</td>\n",
       "    </tr>\n",
       "    <tr>\n",
       "      <th>25%</th>\n",
       "      <td>-0.922830</td>\n",
       "      <td>-0.599928</td>\n",
       "      <td>-0.887861</td>\n",
       "      <td>-0.844052</td>\n",
       "      <td>-0.693702</td>\n",
       "      <td>-0.766195</td>\n",
       "      <td>-0.555377</td>\n",
       "      <td>-0.208302</td>\n",
       "      <td>-0.642006</td>\n",
       "      <td>-0.535079</td>\n",
       "      <td>...</td>\n",
       "      <td>-0.456946</td>\n",
       "      <td>-0.212129</td>\n",
       "      <td>-0.227952</td>\n",
       "      <td>-0.541079</td>\n",
       "      <td>-0.162242</td>\n",
       "      <td>-0.354208</td>\n",
       "      <td>-0.317488</td>\n",
       "      <td>-0.327576</td>\n",
       "      <td>-0.070767</td>\n",
       "      <td>-0.053013</td>\n",
       "    </tr>\n",
       "    <tr>\n",
       "      <th>50%</th>\n",
       "      <td>0.016743</td>\n",
       "      <td>0.064370</td>\n",
       "      <td>0.180865</td>\n",
       "      <td>-0.016750</td>\n",
       "      <td>-0.055388</td>\n",
       "      <td>-0.271706</td>\n",
       "      <td>0.039185</td>\n",
       "      <td>0.022594</td>\n",
       "      <td>-0.051224</td>\n",
       "      <td>-0.091877</td>\n",
       "      <td>...</td>\n",
       "      <td>0.004371</td>\n",
       "      <td>-0.062809</td>\n",
       "      <td>-0.029095</td>\n",
       "      <td>0.007661</td>\n",
       "      <td>-0.011184</td>\n",
       "      <td>0.040977</td>\n",
       "      <td>0.017081</td>\n",
       "      <td>-0.052599</td>\n",
       "      <td>0.001373</td>\n",
       "      <td>0.011255</td>\n",
       "    </tr>\n",
       "    <tr>\n",
       "      <th>75%</th>\n",
       "      <td>1.315147</td>\n",
       "      <td>0.801738</td>\n",
       "      <td>1.027592</td>\n",
       "      <td>0.746907</td>\n",
       "      <td>0.611056</td>\n",
       "      <td>0.401204</td>\n",
       "      <td>0.569307</td>\n",
       "      <td>0.328079</td>\n",
       "      <td>0.596563</td>\n",
       "      <td>0.455577</td>\n",
       "      <td>...</td>\n",
       "      <td>0.459695</td>\n",
       "      <td>0.132873</td>\n",
       "      <td>0.186678</td>\n",
       "      <td>0.529342</td>\n",
       "      <td>0.147825</td>\n",
       "      <td>0.438432</td>\n",
       "      <td>0.351400</td>\n",
       "      <td>0.240554</td>\n",
       "      <td>0.091028</td>\n",
       "      <td>0.078341</td>\n",
       "    </tr>\n",
       "    <tr>\n",
       "      <th>max</th>\n",
       "      <td>2.451888</td>\n",
       "      <td>22.057729</td>\n",
       "      <td>9.382558</td>\n",
       "      <td>16.715537</td>\n",
       "      <td>34.801666</td>\n",
       "      <td>73.301626</td>\n",
       "      <td>120.589494</td>\n",
       "      <td>20.007208</td>\n",
       "      <td>15.594995</td>\n",
       "      <td>23.745136</td>\n",
       "      <td>...</td>\n",
       "      <td>5.591971</td>\n",
       "      <td>39.420904</td>\n",
       "      <td>27.202839</td>\n",
       "      <td>10.503090</td>\n",
       "      <td>22.083545</td>\n",
       "      <td>4.584549</td>\n",
       "      <td>7.519589</td>\n",
       "      <td>3.517346</td>\n",
       "      <td>31.612198</td>\n",
       "      <td>33.847808</td>\n",
       "    </tr>\n",
       "  </tbody>\n",
       "</table>\n",
       "<p>8 rows × 28 columns</p>\n",
       "</div>"
      ],
      "text/plain": [
       "                  V1             V2             V3             V4  \\\n",
       "count  227845.000000  227845.000000  227845.000000  227845.000000   \n",
       "mean       -0.000713      -0.001034       0.002557       0.003839   \n",
       "std         1.952399       1.636689       1.514288       1.417086   \n",
       "min       -56.407510     -72.715728     -48.325589      -5.683171   \n",
       "25%        -0.922830      -0.599928      -0.887861      -0.844052   \n",
       "50%         0.016743       0.064370       0.180865      -0.016750   \n",
       "75%         1.315147       0.801738       1.027592       0.746907   \n",
       "max         2.451888      22.057729       9.382558      16.715537   \n",
       "\n",
       "                  V5             V6             V7             V8  \\\n",
       "count  227845.000000  227845.000000  227845.000000  227845.000000   \n",
       "mean       -0.002857       0.002085       0.000022       0.000093   \n",
       "std         1.383532       1.333769       1.240239       1.200348   \n",
       "min      -113.743307     -26.160506     -43.557242     -73.216718   \n",
       "25%        -0.693702      -0.766195      -0.555377      -0.208302   \n",
       "50%        -0.055388      -0.271706       0.039185       0.022594   \n",
       "75%         0.611056       0.401204       0.569307       0.328079   \n",
       "max        34.801666      73.301626     120.589494      20.007208   \n",
       "\n",
       "                  V9            V10  ...            V19            V20  \\\n",
       "count  227845.000000  227845.000000  ...  227845.000000  227845.000000   \n",
       "mean        0.000243      -0.000363  ...      -0.000146      -0.000796   \n",
       "std         1.096453       1.082580  ...       0.815140       0.767956   \n",
       "min       -13.434066     -24.588262  ...      -7.213527     -54.497720   \n",
       "25%        -0.642006      -0.535079  ...      -0.456946      -0.212129   \n",
       "50%        -0.051224      -0.091877  ...       0.004371      -0.062809   \n",
       "75%         0.596563       0.455577  ...       0.459695       0.132873   \n",
       "max        15.594995      23.745136  ...       5.591971      39.420904   \n",
       "\n",
       "                 V21            V22            V23            V24  \\\n",
       "count  227845.000000  227845.000000  227845.000000  227845.000000   \n",
       "mean        0.000023       0.000897       0.000765      -0.000380   \n",
       "std         0.733325       0.725353       0.616772       0.605741   \n",
       "min       -34.830382     -10.933144     -36.666000      -2.836627   \n",
       "25%        -0.227952      -0.541079      -0.162242      -0.354208   \n",
       "50%        -0.029095       0.007661      -0.011184       0.040977   \n",
       "75%         0.186678       0.529342       0.147825       0.438432   \n",
       "max        27.202839      10.503090      22.083545       4.584549   \n",
       "\n",
       "                 V25            V26            V27            V28  \n",
       "count  227845.000000  227845.000000  227845.000000  227845.000000  \n",
       "mean        0.000136      -0.000301      -0.000046      -0.000027  \n",
       "std         0.522184       0.482187       0.405182       0.331048  \n",
       "min        -8.696627      -2.534330     -22.565679     -15.430084  \n",
       "25%        -0.317488      -0.327576      -0.070767      -0.053013  \n",
       "50%         0.017081      -0.052599       0.001373       0.011255  \n",
       "75%         0.351400       0.240554       0.091028       0.078341  \n",
       "max         7.519589       3.517346      31.612198      33.847808  \n",
       "\n",
       "[8 rows x 28 columns]"
      ]
     },
     "execution_count": 30,
     "metadata": {},
     "output_type": "execute_result"
    }
   ],
   "source": [
    "X_train[pca_vars].describe()"
   ]
  },
  {
   "cell_type": "code",
   "execution_count": 31,
   "metadata": {},
   "outputs": [
    {
     "data": {
      "text/plain": [
       "Text(0.5, 1.0, 'V1-V28 Means')"
      ]
     },
     "execution_count": 31,
     "metadata": {},
     "output_type": "execute_result"
    },
    {
     "data": {
      "image/png": "[encoded data removed]",
      "text/plain": [
       "<Figure size 864x576 with 1 Axes>"
      ]
     },
     "metadata": {},
     "output_type": "display_data"
    }
   ],
   "source": [
    "plt.figure(figsize=(12,8))\n",
    "sns.barplot(x=pca_vars, y=X_train[pca_vars].mean(), color='green')\n",
    "plt.xlabel('Column')\n",
    "plt.ylabel('Mean')\n",
    "plt.title('V1-V28 Means')"
   ]
  },
  {
   "cell_type": "markdown",
   "metadata": {},
   "source": [
    "All of V1-V28 have approximately zero mean. Now plot the standard deviations:"
   ]
  },
  {
   "cell_type": "code",
   "execution_count": 32,
   "metadata": {},
   "outputs": [
    {
     "data": {
      "text/plain": [
       "Text(0.5, 1.0, 'V1-V28 Means')"
      ]
     },
     "execution_count": 32,
     "metadata": {},
     "output_type": "execute_result"
    },
    {
     "data": {
      "image/png": "[encoded data removed]",
      "text/plain": [
       "<Figure size 864x576 with 1 Axes>"
      ]
     },
     "metadata": {},
     "output_type": "display_data"
    }
   ],
   "source": [
    "plt.figure(figsize=(12,8))\n",
    "sns.barplot(x=pca_vars, y=X_train[pca_vars].std(), color='green')\n",
    "plt.xlabel('Column')\n",
    "plt.ylabel('Mean')\n",
    "plt.title('V1-V28 Means')"
   ]
  },
  {
   "cell_type": "markdown",
   "metadata": {},
   "source": [
    "\n",
    "The PCA variables have roughly unit variance, but as low as ~0.3 and as high as ~1.9. Plot the skewnesses next:"
   ]
  },
  {
   "cell_type": "code",
   "execution_count": 33,
   "metadata": {},
   "outputs": [
    {
     "data": {
      "text/plain": [
       "Text(0.5, 1.0, 'V1-V28 Means')"
      ]
     },
     "execution_count": 33,
     "metadata": {},
     "output_type": "execute_result"
    },
    {
     "data": {
      "image/png": "[encoded data removed]",
      "text/plain": [
       "<Figure size 864x576 with 1 Axes>"
      ]
     },
     "metadata": {},
     "output_type": "display_data"
    }
   ],
   "source": [
    "plt.figure(figsize=(12,8))\n",
    "sns.barplot(x=pca_vars, y=X_train[pca_vars].skew(), color='green')\n",
    "plt.xlabel('Column')\n",
    "plt.ylabel('Mean')\n",
    "plt.title('V1-V28 Means')"
   ]
  },
  {
   "cell_type": "markdown",
   "metadata": {},
   "source": [
    "\n",
    "A few of the PCA variables are significantly skewed. Let's plot a histogram of one of the particularly skewed variables, V8, to see the distribution in detail."
   ]
  },
  {
   "cell_type": "code",
   "execution_count": 34,
   "metadata": {},
   "outputs": [
    {
     "data": {
      "text/plain": [
       "Text(0.5, 1.0, 'V8')"
      ]
     },
     "execution_count": 34,
     "metadata": {},
     "output_type": "execute_result"
    },
    {
     "data": {
      "image/png": "[encoded data removed]",
      "text/plain": [
       "<Figure size 864x576 with 1 Axes>"
      ]
     },
     "metadata": {},
     "output_type": "display_data"
    }
   ],
   "source": [
    "plt.figure(figsize=(12,8))\n",
    "sns.distplot(X_train['V8'], bins=100)\n",
    "plt.ylabel('Count')\n",
    "plt.title('V8')"
   ]
  },
  {
   "cell_type": "markdown",
   "metadata": {},
   "source": [
    "\n",
    "The histogram doesn't show us outliers. Let's try a boxplot:"
   ]
  },
  {
   "cell_type": "code",
   "execution_count": 35,
   "metadata": {},
   "outputs": [
    {
     "data": {
      "text/plain": [
       "Text(0.5, 1.0, 'V8')"
      ]
     },
     "execution_count": 35,
     "metadata": {},
     "output_type": "execute_result"
    },
    {
     "data": {
      "image/png": "[encoded data removed]",
      "text/plain": [
       "<Figure size 960x640 with 1 Axes>"
      ]
     },
     "metadata": {},
     "output_type": "display_data"
    }
   ],
   "source": [
    "plt.figure(figsize=(12,8), dpi=80)\n",
    "sns.boxplot(X_train['V8'])\n",
    "plt.title('V8')"
   ]
  },
  {
   "cell_type": "markdown",
   "metadata": {},
   "source": [
    "\n",
    "The boxplot is also hard to read due to the large number of outliers, which indicates high kurtosis in V8. This motivates us to plot the kurtoses of the PCA variables. The kurtosis method employed in pandas is Fisher’s definition, for which the standard normal distribution has kurtosis 0.\n",
    "\n",
    "Note the log scale on the y-axis in the plot below:"
   ]
  },
  {
   "cell_type": "code",
   "execution_count": 36,
   "metadata": {},
   "outputs": [
    {
     "data": {
      "text/plain": [
       "Text(0.5, 1.0, 'V1-V28 Kurtoses')"
      ]
     },
     "execution_count": 36,
     "metadata": {},
     "output_type": "execute_result"
    },
    {
     "data": {
      "image/png": "[encoded data removed]",
      "text/plain": [
       "<Figure size 864x576 with 1 Axes>"
      ]
     },
     "metadata": {},
     "output_type": "display_data"
    }
   ],
   "source": [
    "plt.figure(figsize=(12,8))\n",
    "plt.yscale('log')\n",
    "sns.barplot(x=pca_vars, y=X_train[pca_vars].kurtosis(), color='green')\n",
    "plt.xlabel('Column')\n",
    "plt.ylabel('Kurtosis')\n",
    "plt.title('V1-V28 Kurtoses')"
   ]
  },
  {
   "cell_type": "markdown",
   "metadata": {},
   "source": [
    "We've learned that many of the PCA variables are heavy-tailed. The large numbers of outliers in V1-V28 motivates us to consider robust descriptive statistics. Let's plot the medians:"
   ]
  },
  {
   "cell_type": "code",
   "execution_count": 37,
   "metadata": {},
   "outputs": [
    {
     "data": {
      "text/plain": [
       "Text(0.5, 1.0, 'V1-V28 Means')"
      ]
     },
     "execution_count": 37,
     "metadata": {},
     "output_type": "execute_result"
    },
    {
     "data": {
      "image/png": "[encoded data removed]",
      "text/plain": [
       "<Figure size 864x576 with 1 Axes>"
      ]
     },
     "metadata": {},
     "output_type": "display_data"
    }
   ],
   "source": [
    "plt.figure(figsize=(12,8))\n",
    "sns.barplot(x=pca_vars, y=X_train[pca_vars].median(), color='green')\n",
    "plt.xlabel('Column')\n",
    "plt.ylabel('Mean')\n",
    "plt.title('V1-V28 Means')"
   ]
  },
  {
   "cell_type": "markdown",
   "metadata": {},
   "source": [
    "\n",
    "The medians are also roughly zero. Next let's look at the interquartile ranges (IQR)*:"
   ]
  },
  {
   "cell_type": "code",
   "execution_count": 38,
   "metadata": {},
   "outputs": [
    {
     "data": {
      "text/plain": [
       "Text(0.5, 1.0, 'V1-V28 IQRs')"
      ]
     },
     "execution_count": 38,
     "metadata": {},
     "output_type": "execute_result"
    },
    {
     "data": {
      "image/png": "[encoded data removed]",
      "text/plain": [
       "<Figure size 864x576 with 1 Axes>"
      ]
     },
     "metadata": {},
     "output_type": "display_data"
    }
   ],
   "source": [
    "plt.figure(figsize=(12,8))\n",
    "sns.barplot(x=pca_vars, y=X_train[pca_vars].quantile(0.75) - X_train[pca_vars].quantile(0.25), color='green')\n",
    "plt.xlabel('Column')\n",
    "plt.ylabel('IQR')\n",
    "plt.title('V1-V28 IQRs')"
   ]
  },
  {
   "cell_type": "markdown",
   "metadata": {},
   "source": [
    "#### Mutual Information between Fraud and the Predictors"
   ]
  },
  {
   "cell_type": "markdown",
   "metadata": {},
   "source": [
    "Mutual information of 0 indicates no dependence, and higher values indicate higher dependence. According to the sklearn User Guide, \"mutual information methods can capture any kind of statistical dependency, but being nonparametric, they require more samples for accurate estimation.\" We have 227,845 training samples, so mutual information should work well. Because the target variable is discrete, we use mutual_info_classif (as opposed to mutual_info_regression for a continuous target)."
   ]
  },
  {
   "cell_type": "code",
   "execution_count": 39,
   "metadata": {},
   "outputs": [
    {
     "name": "stderr",
     "output_type": "stream",
     "text": [
      "C:\\python\\lib\\importlib\\_bootstrap.py:219: RuntimeWarning: numpy.ufunc size changed, may indicate binary incompatibility. Expected 192 from C header, got 216 from PyObject\n",
      "  return f(*args, **kwds)\n",
      "C:\\python\\lib\\importlib\\_bootstrap.py:219: RuntimeWarning: numpy.ufunc size changed, may indicate binary incompatibility. Expected 192 from C header, got 216 from PyObject\n",
      "  return f(*args, **kwds)\n",
      "C:\\python\\lib\\importlib\\_bootstrap.py:219: RuntimeWarning: numpy.ufunc size changed, may indicate binary incompatibility. Expected 192 from C header, got 216 from PyObject\n",
      "  return f(*args, **kwds)\n"
     ]
    }
   ],
   "source": [
    "from sklearn.feature_selection import mutual_info_classif"
   ]
  },
  {
   "cell_type": "code",
   "execution_count": 40,
   "metadata": {},
   "outputs": [],
   "source": [
    "data=mutual_info_classif(X_train, y_train, discrete_features=False, random_state=1)\n"
   ]
  },
  {
   "cell_type": "code",
   "execution_count": 42,
   "metadata": {},
   "outputs": [],
   "source": [
    "mutual_infos = pd.Series(data,index= X_train.columns)"
   ]
  },
  {
   "cell_type": "markdown",
   "metadata": {},
   "source": [
    "The calculated mutual informations of each variable with Class, in descending order:"
   ]
  },
  {
   "cell_type": "code",
   "execution_count": 43,
   "metadata": {},
   "outputs": [
    {
     "data": {
      "text/plain": [
       "V17       0.008037\n",
       "V14       0.007977\n",
       "V10       0.007354\n",
       "V12       0.007354\n",
       "V11       0.006607\n",
       "V16       0.005793\n",
       "V4        0.004843\n",
       "V3        0.004755\n",
       "V18       0.004025\n",
       "V9        0.003996\n",
       "V7        0.003941\n",
       "V2        0.003085\n",
       "V21       0.002304\n",
       "V27       0.002271\n",
       "V6        0.002265\n",
       "V5        0.002254\n",
       "V1        0.001990\n",
       "V8        0.001843\n",
       "V28       0.001757\n",
       "Time      0.001722\n",
       "Amount    0.001422\n",
       "V19       0.001322\n",
       "V20       0.001136\n",
       "V23       0.000827\n",
       "V24       0.000593\n",
       "V26       0.000459\n",
       "V22       0.000388\n",
       "V25       0.000376\n",
       "V15       0.000230\n",
       "V13       0.000205\n",
       "dtype: float64"
      ]
     },
     "execution_count": 43,
     "metadata": {},
     "output_type": "execute_result"
    }
   ],
   "source": [
    "mutual_infos.sort_values(ascending=False)"
   ]
  },
  {
   "cell_type": "markdown",
   "metadata": {},
   "source": [
    "\n",
    "The five most correlated variables with Class are, in decreasing order, V17, V14, V10, V12, and V11."
   ]
  },
  {
   "cell_type": "markdown",
   "metadata": {},
   "source": [
    "### Logistic Regression"
   ]
  },
  {
   "cell_type": "code",
   "execution_count": 62,
   "metadata": {},
   "outputs": [],
   "source": [
    "from sklearn.pipeline import Pipeline\n",
    "from sklearn.preprocessing import StandardScaler\n",
    "from sklearn.linear_model import SGDClassifier"
   ]
  },
  {
   "cell_type": "code",
   "execution_count": 63,
   "metadata": {},
   "outputs": [],
   "source": [
    "pipeline_sgd = Pipeline([\n",
    "    ('scaler', StandardScaler(copy=False)),\n",
    "    ('model', SGDClassifier(max_iter=1000, tol=1e-3, random_state=1, warm_start=True))\n",
    "])"
   ]
  },
  {
   "cell_type": "markdown",
   "metadata": {},
   "source": [
    " The type of linear classifier is chosen with the loss hyperparameter. For a linear SVC we set loss = 'hinge', and for logistic regression we set loss = 'log'.\n",
    "\n",
    "Set the hyperparameter grids to search over, one grid for the linear SVC and one for logistic regression:"
   ]
  },
  {
   "cell_type": "code",
   "execution_count": 64,
   "metadata": {},
   "outputs": [],
   "source": [
    "param_grid_sgd = [{\n",
    "    'model__loss': ['log'],\n",
    "    'model__penalty': ['l1', 'l2'],\n",
    "    'model__alpha': np.logspace(start=-3, stop=3, num=20)\n",
    "}, {\n",
    "    'model__loss': ['hinge'],\n",
    "    'model__alpha': np.logspace(start=-3, stop=3, num=20),\n",
    "    'model__class_weight': [None, 'balanced']\n",
    "}]"
   ]
  },
  {
   "cell_type": "markdown",
   "metadata": {},
   "source": [
    "The grid search, implemented by GridSearchCV, uses StratifiedKFold with 5 folds for the train/validation splits. We'll use matthews_corrcoef (the Matthews correlation coefficient, MCC) as our scoring metric."
   ]
  },
  {
   "cell_type": "code",
   "execution_count": 65,
   "metadata": {},
   "outputs": [],
   "source": [
    "from sklearn.model_selection import GridSearchCV\n",
    "from sklearn.metrics import make_scorer, matthews_corrcoef"
   ]
  },
  {
   "cell_type": "code",
   "execution_count": 66,
   "metadata": {},
   "outputs": [],
   "source": [
    "\n",
    "MCC_scorer = make_scorer(matthews_corrcoef)\n",
    "grid_sgd = GridSearchCV(estimator=pipeline_sgd, param_grid=param_grid_sgd, scoring=MCC_scorer, n_jobs=-1, pre_dispatch='2*n_jobs', cv=5, verbose=1, return_train_score=False)"
   ]
  },
  {
   "cell_type": "markdown",
   "metadata": {},
   "source": [
    "\n",
    "Perform the grid search:"
   ]
  },
  {
   "cell_type": "code",
   "execution_count": 67,
   "metadata": {},
   "outputs": [
    {
     "name": "stdout",
     "output_type": "stream",
     "text": [
      "Fitting 5 folds for each of 80 candidates, totalling 400 fits\n"
     ]
    },
    {
     "name": "stderr",
     "output_type": "stream",
     "text": [
      "[Parallel(n_jobs=-1)]: Using backend LokyBackend with 4 concurrent workers.\n",
      "[Parallel(n_jobs=-1)]: Done  42 tasks      | elapsed:   32.6s\n",
      "[Parallel(n_jobs=-1)]: Done 192 tasks      | elapsed:  2.2min\n",
      "[Parallel(n_jobs=-1)]: Done 400 out of 400 | elapsed:  3.7min finished\n"
     ]
    }
   ],
   "source": [
    "import warnings\n",
    "with warnings.catch_warnings(): # Suppress warnings from the matthews_corrcoef function\n",
    "    warnings.simplefilter(\"ignore\")\n",
    "    grid_sgd.fit(X_train, y_train)"
   ]
  },
  {
   "cell_type": "markdown",
   "metadata": {},
   "source": [
    "Mean cross-validated MCC score of the best estimator found:"
   ]
  },
  {
   "cell_type": "code",
   "execution_count": 68,
   "metadata": {},
   "outputs": [
    {
     "data": {
      "text/plain": [
       "0.8054381462050987"
      ]
     },
     "execution_count": 68,
     "metadata": {},
     "output_type": "execute_result"
    }
   ],
   "source": [
    "grid_sgd.best_score_"
   ]
  },
  {
   "cell_type": "markdown",
   "metadata": {},
   "source": [
    "This is a pretty good MCC score---random guessing has a score of 0, and a perfect predictor has a score of 1. Now check the best hyperparameters found in the grid search:"
   ]
  },
  {
   "cell_type": "code",
   "execution_count": 69,
   "metadata": {},
   "outputs": [
    {
     "data": {
      "text/plain": [
       "{'model__alpha': 233.57214690901213,\n",
       " 'model__class_weight': 'balanced',\n",
       " 'model__loss': 'hinge'}"
      ]
     },
     "execution_count": 69,
     "metadata": {},
     "output_type": "execute_result"
    }
   ],
   "source": [
    "grid_sgd.best_params_"
   ]
  },
  {
   "cell_type": "markdown",
   "metadata": {},
   "source": [
    "So the linear SVC performed better than logistic regression, and with a high level of regularization ($\\alpha\\approx 483$)."
   ]
  },
  {
   "cell_type": "markdown",
   "metadata": {},
   "source": [
    "### Random Forest"
   ]
  },
  {
   "cell_type": "code",
   "execution_count": 70,
   "metadata": {},
   "outputs": [
    {
     "name": "stderr",
     "output_type": "stream",
     "text": [
      "C:\\python\\lib\\importlib\\_bootstrap.py:219: RuntimeWarning: numpy.ufunc size changed, may indicate binary incompatibility. Expected 192 from C header, got 216 from PyObject\n",
      "  return f(*args, **kwds)\n"
     ]
    }
   ],
   "source": [
    "from sklearn.ensemble import RandomForestClassifier"
   ]
  },
  {
   "cell_type": "code",
   "execution_count": 71,
   "metadata": {},
   "outputs": [],
   "source": [
    "pipeline_rf = Pipeline([\n",
    "    ('model', RandomForestClassifier(n_jobs=-1, random_state=1))\n",
    "])\n"
   ]
  },
  {
   "cell_type": "markdown",
   "metadata": {},
   "source": [
    "\n",
    "The random forest takes much longer to train on this fairly large dataset, so we don't actually do a hyperparameter grid search, only specifiying the number of estimators. We'll leave the grid search implemented in case we decide to try different hyperparameter values in the future."
   ]
  },
  {
   "cell_type": "code",
   "execution_count": 72,
   "metadata": {},
   "outputs": [],
   "source": [
    "param_grid_rf = {'model__n_estimators': [75]}"
   ]
  },
  {
   "cell_type": "code",
   "execution_count": 73,
   "metadata": {},
   "outputs": [],
   "source": [
    "grid_rf = GridSearchCV(estimator=pipeline_rf, param_grid=param_grid_rf, scoring=MCC_scorer, n_jobs=-1, pre_dispatch='2*n_jobs', cv=5, verbose=1, return_train_score=False)"
   ]
  },
  {
   "cell_type": "code",
   "execution_count": 74,
   "metadata": {},
   "outputs": [
    {
     "name": "stdout",
     "output_type": "stream",
     "text": [
      "Fitting 5 folds for each of 1 candidates, totalling 5 fits\n"
     ]
    },
    {
     "name": "stderr",
     "output_type": "stream",
     "text": [
      "[Parallel(n_jobs=-1)]: Using backend LokyBackend with 4 concurrent workers.\n",
      "[Parallel(n_jobs=-1)]: Done   5 out of   5 | elapsed:  5.8min finished\n"
     ]
    },
    {
     "data": {
      "text/plain": [
       "GridSearchCV(cv=5,\n",
       "             estimator=Pipeline(steps=[('model',\n",
       "                                        RandomForestClassifier(n_jobs=-1,\n",
       "                                                               random_state=1))]),\n",
       "             n_jobs=-1, param_grid={'model__n_estimators': [75]},\n",
       "             scoring=make_scorer(matthews_corrcoef), verbose=1)"
      ]
     },
     "execution_count": 74,
     "metadata": {},
     "output_type": "execute_result"
    }
   ],
   "source": [
    "grid_rf.fit(X_train, y_train)"
   ]
  },
  {
   "cell_type": "code",
   "execution_count": 75,
   "metadata": {},
   "outputs": [
    {
     "data": {
      "text/plain": [
       "0.8596447282953857"
      ]
     },
     "execution_count": 75,
     "metadata": {},
     "output_type": "execute_result"
    }
   ],
   "source": [
    "\n",
    "grid_rf.best_score_"
   ]
  },
  {
   "cell_type": "markdown",
   "metadata": {},
   "source": [
    "The random forest performed much better than the linear SVC"
   ]
  },
  {
   "cell_type": "code",
   "execution_count": 76,
   "metadata": {},
   "outputs": [
    {
     "data": {
      "text/plain": [
       "{'model__n_estimators': 75}"
      ]
     },
     "execution_count": 76,
     "metadata": {},
     "output_type": "execute_result"
    }
   ],
   "source": [
    "\n",
    "grid_rf.best_params_"
   ]
  },
  {
   "cell_type": "markdown",
   "metadata": {},
   "source": [
    "### Test Set Evaluation of the Best Model"
   ]
  },
  {
   "cell_type": "code",
   "execution_count": 77,
   "metadata": {},
   "outputs": [],
   "source": [
    "from sklearn.metrics import confusion_matrix, classification_report, matthews_corrcoef, cohen_kappa_score, accuracy_score, average_precision_score, roc_auc_score"
   ]
  },
  {
   "cell_type": "code",
   "execution_count": 84,
   "metadata": {},
   "outputs": [],
   "source": [
    "def classification_eval(estimator,X_test,y_test):\n",
    "    y_pred=estimator.predict(X_test)\n",
    "    dec = np.int64(np.ceil(np.log10(len(y_test))))\n",
    "    \n",
    "    print(\"Confusion Matrix\")\n",
    "    print(confusion_matrix(y_test,y_pred),'\\n')\n",
    "    \n",
    "    print('Classification report')\n",
    "    print(classification_report(y_test, y_pred, digits=dec))\n",
    "    \n",
    "    print(\"Scalar Metrics\")\n",
    "    format_str = '%%13s = %%.%if' % dec\n",
    "    print(format_str % ('MCC', matthews_corrcoef(y_test, y_pred)))\n",
    "    \n",
    "    if y_test.nunique() <= 2: # Additional metrics for binary classification\n",
    "        try:\n",
    "            y_score = estimator.predict_proba(X_test)[:,1]\n",
    "        except:\n",
    "            y_score = estimator.decision_function(X_test)\n",
    "        print(format_str % ('AUPRC', average_precision_score(y_test, y_score)))\n",
    "        print(format_str % ('AUROC', roc_auc_score(y_test, y_score)))\n",
    "    print(format_str % (\"Cohen's kappa\", cohen_kappa_score(y_test, y_pred)))\n",
    "    print(format_str % ('Accuracy', accuracy_score(y_test, y_pred)))"
   ]
  },
  {
   "cell_type": "code",
   "execution_count": 85,
   "metadata": {},
   "outputs": [
    {
     "name": "stdout",
     "output_type": "stream",
     "text": [
      "Confusion Matrix\n",
      "[[56854    10]\n",
      " [   15    83]] \n",
      "\n",
      "Classification report\n",
      "              precision    recall  f1-score   support\n",
      "\n",
      "           0    0.99974   0.99982   0.99978     56864\n",
      "           1    0.89247   0.84694   0.86911        98\n",
      "\n",
      "    accuracy                        0.99956     56962\n",
      "   macro avg    0.94610   0.92338   0.93445     56962\n",
      "weighted avg    0.99955   0.99956   0.99956     56962\n",
      "\n",
      "Scalar Metrics\n",
      "          MCC = 0.86919\n",
      "        AUPRC = 0.85098\n",
      "        AUROC = 0.95924\n",
      "Cohen's kappa = 0.86889\n",
      "     Accuracy = 0.99956\n"
     ]
    }
   ],
   "source": [
    "classification_eval(grid_rf, X_test, y_test)"
   ]
  },
  {
   "cell_type": "markdown",
   "metadata": {},
   "source": [
    "\n",
    "According to the MCC, the random forest performed better on the test set than on the training set. This is probably due to the refit model being trained on the entire training data set, and not on the smaller CV folds."
   ]
  },
  {
   "cell_type": "markdown",
   "metadata": {},
   "source": [
    "## Conclusion\n",
    "\n",
    "We were able to accurately identify fraudulent credit card transactions using a random forest model. We found that the five variables most correlated with fraud are, in decreasing order, V17, V14, V10, V12, and V11. Only a few preprocessing steps were necessary before constructing predictive models:\n",
    "\n",
    "1.Split the data using a random, stratified train/test split with a test size of 20%\n",
    "\n",
    "2.Box-Cox power transform of the transaction amounts to remove skewness in the data\n",
    "\n",
    "3.Mean and variance standardization of all features as part of a machine learning pipeline\n",
    "\n",
    "We used the Matthews correlation coefficient (MCC) to compare the performance of different models. In cross validation, the best linear model (logistic regression, linear SVC) achieved a cross-validated MCC score of 0.807, and a random forest achieved a cross-validated MCC score of 0.856. We therefore chose the random forest as the better model, which obtained an MCC of 0.869 on the test set.\n",
    "\n",
    "To improve a chosen model, we searched over a grid of hyperparameters and compared performance with cross-validation. It may be possible to improve the random forest model by further tweaking the hyperparameters, given additional time and/or computational power."
   ]
  },
  {
   "cell_type": "code",
   "execution_count": null,
   "metadata": {},
   "outputs": [],
   "source": []
  }
 ],
 "metadata": {
  "kernelspec": {
   "display_name": "Python 3.7.6 64-bit",
   "language": "python",
   "name": "python37664bitd7bc1df413394f7192e719df23a569cf"
  },
  "language_info": {
   "codemirror_mode": {
    "name": "ipython",
    "version": 3
   },
   "file_extension": ".py",
   "mimetype": "text/x-python",
   "name": "python",
   "nbconvert_exporter": "python",
   "pygments_lexer": "ipython3",
   "version": "3.7.6"
  }
 },
 "nbformat": 4,
 "nbformat_minor": 4
}
